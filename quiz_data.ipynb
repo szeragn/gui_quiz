{
 "cells": [
  {
   "cell_type": "code",
   "execution_count": 207,
   "id": "aeeb70cc",
   "metadata": {
    "slideshow": {
     "slide_type": "slide"
    }
   },
   "outputs": [
    {
     "name": "stdout",
     "output_type": "stream",
     "text": [
      "Python: 3.10.9 | packaged by Anaconda, Inc. | (main, Mar  1 2023, 18:18:15) [MSC v.1916 64 bit (AMD64)]\n",
      "numpy: 1.23.5\n",
      "pandas: 1.5.3\n",
      "matplotlib: 3.7.0\n",
      "seaborn: 0.12.2\n",
      "sklearn: 1.2.1\n",
      "sqlite3: 2.6.0\n"
     ]
    }
   ],
   "source": [
    "import sys \n",
    "print(f'Python: {sys.version}')\n",
    "\n",
    "import numpy as np\n",
    "print(f'numpy: {np.__version__}')\n",
    "\n",
    "import pandas as pd\n",
    "print(f'pandas: {pd.__version__}')\n",
    "\n",
    "import matplotlib\n",
    "print(f'matplotlib: {matplotlib.__version__}')\n",
    "\n",
    "import seaborn as sns\n",
    "print(f'seaborn: {sns.__version__}')\n",
    "\n",
    "import sklearn as sk\n",
    "print(f'sklearn: {sk.__version__}')\n",
    "\n",
    "import sqlite3\n",
    "print(f'sqlite3: {sqlite3.version}')"
   ]
  },
  {
   "cell_type": "code",
   "execution_count": 208,
   "id": "26bd58b5",
   "metadata": {},
   "outputs": [],
   "source": [
    "database_path = 'db.sqlite3'"
   ]
  },
  {
   "cell_type": "code",
   "execution_count": 209,
   "id": "acc9d61d",
   "metadata": {},
   "outputs": [],
   "source": [
    "conn = sqlite3.connect(database_path)"
   ]
  },
  {
   "cell_type": "code",
   "execution_count": 210,
   "id": "a3afdedb",
   "metadata": {},
   "outputs": [
    {
     "data": {
      "text/html": [
       "<div>\n",
       "<style scoped>\n",
       "    .dataframe tbody tr th:only-of-type {\n",
       "        vertical-align: middle;\n",
       "    }\n",
       "\n",
       "    .dataframe tbody tr th {\n",
       "        vertical-align: top;\n",
       "    }\n",
       "\n",
       "    .dataframe thead th {\n",
       "        text-align: right;\n",
       "    }\n",
       "</style>\n",
       "<table border=\"1\" class=\"dataframe\">\n",
       "  <thead>\n",
       "    <tr style=\"text-align: right;\">\n",
       "      <th></th>\n",
       "      <th>id</th>\n",
       "      <th>question</th>\n",
       "      <th>correct_option</th>\n",
       "    </tr>\n",
       "  </thead>\n",
       "  <tbody>\n",
       "    <tr>\n",
       "      <th>0</th>\n",
       "      <td>11</td>\n",
       "      <td>Ki NEM a főszereplő barátja a Harry Potter kön...</td>\n",
       "      <td>C</td>\n",
       "    </tr>\n",
       "    <tr>\n",
       "      <th>1</th>\n",
       "      <td>12</td>\n",
       "      <td>Milyen állat Csikócsőr?</td>\n",
       "      <td>D</td>\n",
       "    </tr>\n",
       "    <tr>\n",
       "      <th>2</th>\n",
       "      <td>13</td>\n",
       "      <td>Milyen pálcája van Hermine Grangernek?</td>\n",
       "      <td>A</td>\n",
       "    </tr>\n",
       "    <tr>\n",
       "      <th>3</th>\n",
       "      <td>14</td>\n",
       "      <td>Milyen patrónusa van Luna Lovegodnak?</td>\n",
       "      <td>C</td>\n",
       "    </tr>\n",
       "    <tr>\n",
       "      <th>4</th>\n",
       "      <td>16</td>\n",
       "      <td>Hány összetevője van a Százfűlé-főzetnek?</td>\n",
       "      <td>B</td>\n",
       "    </tr>\n",
       "    <tr>\n",
       "      <th>5</th>\n",
       "      <td>17</td>\n",
       "      <td>Ki volt a Roxfort igazgatója Albus Dumbledore ...</td>\n",
       "      <td>A</td>\n",
       "    </tr>\n",
       "    <tr>\n",
       "      <th>6</th>\n",
       "      <td>18</td>\n",
       "      <td>Melyik országban bujkált Voldemort?</td>\n",
       "      <td>B</td>\n",
       "    </tr>\n",
       "  </tbody>\n",
       "</table>\n",
       "</div>"
      ],
      "text/plain": [
       "   id                                           question correct_option\n",
       "0  11  Ki NEM a főszereplő barátja a Harry Potter kön...              C\n",
       "1  12                            Milyen állat Csikócsőr?              D\n",
       "2  13             Milyen pálcája van Hermine Grangernek?              A\n",
       "3  14              Milyen patrónusa van Luna Lovegodnak?              C\n",
       "4  16          Hány összetevője van a Százfűlé-főzetnek?              B\n",
       "5  17  Ki volt a Roxfort igazgatója Albus Dumbledore ...              A\n",
       "6  18                Melyik országban bujkált Voldemort?              B"
      ]
     },
     "execution_count": 210,
     "metadata": {},
     "output_type": "execute_result"
    }
   ],
   "source": [
    "df_q_table = pd.read_sql_query(\"SELECT * from hp_quiz_app_question\", conn)\n",
    "df_q_table.head(7)"
   ]
  },
  {
   "cell_type": "code",
   "execution_count": 211,
   "id": "31328d76",
   "metadata": {},
   "outputs": [
    {
     "name": "stdout",
     "output_type": "stream",
     "text": [
      "<class 'pandas.core.frame.DataFrame'>\n",
      "RangeIndex: 8 entries, 0 to 7\n",
      "Data columns (total 3 columns):\n",
      " #   Column          Non-Null Count  Dtype \n",
      "---  ------          --------------  ----- \n",
      " 0   id              8 non-null      int64 \n",
      " 1   question        8 non-null      object\n",
      " 2   correct_option  8 non-null      object\n",
      "dtypes: int64(1), object(2)\n",
      "memory usage: 320.0+ bytes\n"
     ]
    }
   ],
   "source": [
    "df_q_table.info()"
   ]
  },
  {
   "cell_type": "code",
   "execution_count": 212,
   "id": "a8092b92",
   "metadata": {
    "slideshow": {
     "slide_type": "slide"
    }
   },
   "outputs": [
    {
     "data": {
      "text/html": [
       "<div>\n",
       "<style scoped>\n",
       "    .dataframe tbody tr th:only-of-type {\n",
       "        vertical-align: middle;\n",
       "    }\n",
       "\n",
       "    .dataframe tbody tr th {\n",
       "        vertical-align: top;\n",
       "    }\n",
       "\n",
       "    .dataframe thead th {\n",
       "        text-align: right;\n",
       "    }\n",
       "</style>\n",
       "<table border=\"1\" class=\"dataframe\">\n",
       "  <thead>\n",
       "    <tr style=\"text-align: right;\">\n",
       "      <th></th>\n",
       "      <th>id</th>\n",
       "      <th>option_a</th>\n",
       "      <th>option_b</th>\n",
       "      <th>option_c</th>\n",
       "      <th>option_d</th>\n",
       "      <th>question_id</th>\n",
       "    </tr>\n",
       "  </thead>\n",
       "  <tbody>\n",
       "    <tr>\n",
       "      <th>0</th>\n",
       "      <td>19</td>\n",
       "      <td>Ron Weasley</td>\n",
       "      <td>Hermione Granger</td>\n",
       "      <td>Draco Malfoy</td>\n",
       "      <td>Luna Lovegood</td>\n",
       "      <td>11</td>\n",
       "    </tr>\n",
       "    <tr>\n",
       "      <th>1</th>\n",
       "      <td>20</td>\n",
       "      <td>Durrfarkú szurcsók</td>\n",
       "      <td>Macska</td>\n",
       "      <td>Patkány</td>\n",
       "      <td>Hippogriff</td>\n",
       "      <td>12</td>\n",
       "    </tr>\n",
       "    <tr>\n",
       "      <th>2</th>\n",
       "      <td>21</td>\n",
       "      <td>Szőlőfa sárkány-szívizomhúrral</td>\n",
       "      <td>Kőrisfa unikornisszőrrel</td>\n",
       "      <td>Fűzfa egyszarvúszőrrel</td>\n",
       "      <td>Gesztenyefa sárkányszívhúrral</td>\n",
       "      <td>13</td>\n",
       "    </tr>\n",
       "    <tr>\n",
       "      <th>3</th>\n",
       "      <td>22</td>\n",
       "      <td>Tigris</td>\n",
       "      <td>Egér</td>\n",
       "      <td>Nyúl</td>\n",
       "      <td>Hattyú</td>\n",
       "      <td>14</td>\n",
       "    </tr>\n",
       "  </tbody>\n",
       "</table>\n",
       "</div>"
      ],
      "text/plain": [
       "   id                        option_a                  option_b  \\\n",
       "0  19                     Ron Weasley          Hermione Granger   \n",
       "1  20              Durrfarkú szurcsók                    Macska   \n",
       "2  21  Szőlőfa sárkány-szívizomhúrral  Kőrisfa unikornisszőrrel   \n",
       "3  22                          Tigris                      Egér   \n",
       "\n",
       "                 option_c                       option_d  question_id  \n",
       "0            Draco Malfoy                  Luna Lovegood           11  \n",
       "1                 Patkány                     Hippogriff           12  \n",
       "2  Fűzfa egyszarvúszőrrel  Gesztenyefa sárkányszívhúrral           13  \n",
       "3                    Nyúl                         Hattyú           14  "
      ]
     },
     "execution_count": 212,
     "metadata": {},
     "output_type": "execute_result"
    }
   ],
   "source": [
    "df_opt_table = pd.read_sql_query(\"SELECT * FROM hp_quiz_app_options\", conn)\n",
    "df_opt_table.head(4)"
   ]
  },
  {
   "cell_type": "code",
   "execution_count": 213,
   "id": "3a7f6b8c",
   "metadata": {},
   "outputs": [
    {
     "name": "stdout",
     "output_type": "stream",
     "text": [
      "<class 'pandas.core.frame.DataFrame'>\n",
      "RangeIndex: 7 entries, 0 to 6\n",
      "Data columns (total 6 columns):\n",
      " #   Column       Non-Null Count  Dtype \n",
      "---  ------       --------------  ----- \n",
      " 0   id           7 non-null      int64 \n",
      " 1   option_a     7 non-null      object\n",
      " 2   option_b     7 non-null      object\n",
      " 3   option_c     7 non-null      object\n",
      " 4   option_d     7 non-null      object\n",
      " 5   question_id  7 non-null      int64 \n",
      "dtypes: int64(2), object(4)\n",
      "memory usage: 464.0+ bytes\n"
     ]
    }
   ],
   "source": [
    "df_opt_table.info()"
   ]
  },
  {
   "cell_type": "code",
   "execution_count": 214,
   "id": "e01e80af",
   "metadata": {},
   "outputs": [
    {
     "data": {
      "text/plain": [
       "Index(['id', 'option_a', 'option_b', 'option_c', 'option_d', 'question_id'], dtype='object')"
      ]
     },
     "execution_count": 214,
     "metadata": {},
     "output_type": "execute_result"
    }
   ],
   "source": [
    "df_opt_table.columns"
   ]
  },
  {
   "cell_type": "code",
   "execution_count": 215,
   "id": "cd55aee2",
   "metadata": {},
   "outputs": [
    {
     "data": {
      "text/html": [
       "<div>\n",
       "<style scoped>\n",
       "    .dataframe tbody tr th:only-of-type {\n",
       "        vertical-align: middle;\n",
       "    }\n",
       "\n",
       "    .dataframe tbody tr th {\n",
       "        vertical-align: top;\n",
       "    }\n",
       "\n",
       "    .dataframe thead th {\n",
       "        text-align: right;\n",
       "    }\n",
       "</style>\n",
       "<table border=\"1\" class=\"dataframe\">\n",
       "  <thead>\n",
       "    <tr style=\"text-align: right;\">\n",
       "      <th></th>\n",
       "      <th>id</th>\n",
       "      <th>selected_option</th>\n",
       "      <th>question_id</th>\n",
       "    </tr>\n",
       "  </thead>\n",
       "  <tbody>\n",
       "    <tr>\n",
       "      <th>0</th>\n",
       "      <td>1</td>\n",
       "      <td>A</td>\n",
       "      <td>11</td>\n",
       "    </tr>\n",
       "    <tr>\n",
       "      <th>1</th>\n",
       "      <td>2</td>\n",
       "      <td>D</td>\n",
       "      <td>12</td>\n",
       "    </tr>\n",
       "    <tr>\n",
       "      <th>2</th>\n",
       "      <td>3</td>\n",
       "      <td>A</td>\n",
       "      <td>13</td>\n",
       "    </tr>\n",
       "    <tr>\n",
       "      <th>3</th>\n",
       "      <td>4</td>\n",
       "      <td>C</td>\n",
       "      <td>14</td>\n",
       "    </tr>\n",
       "    <tr>\n",
       "      <th>4</th>\n",
       "      <td>5</td>\n",
       "      <td>A</td>\n",
       "      <td>11</td>\n",
       "    </tr>\n",
       "  </tbody>\n",
       "</table>\n",
       "</div>"
      ],
      "text/plain": [
       "   id selected_option  question_id\n",
       "0   1               A           11\n",
       "1   2               D           12\n",
       "2   3               A           13\n",
       "3   4               C           14\n",
       "4   5               A           11"
      ]
     },
     "execution_count": 215,
     "metadata": {},
     "output_type": "execute_result"
    }
   ],
   "source": [
    "df_ans_table = pd.read_sql_query(\"SELECT * FROM hp_quiz_app_answer\", conn)\n",
    "df_ans_table.head()"
   ]
  },
  {
   "cell_type": "code",
   "execution_count": 216,
   "id": "754744fb",
   "metadata": {},
   "outputs": [
    {
     "name": "stdout",
     "output_type": "stream",
     "text": [
      "<class 'pandas.core.frame.DataFrame'>\n",
      "RangeIndex: 141 entries, 0 to 140\n",
      "Data columns (total 3 columns):\n",
      " #   Column           Non-Null Count  Dtype \n",
      "---  ------           --------------  ----- \n",
      " 0   id               141 non-null    int64 \n",
      " 1   selected_option  141 non-null    object\n",
      " 2   question_id      141 non-null    int64 \n",
      "dtypes: int64(2), object(1)\n",
      "memory usage: 3.4+ KB\n"
     ]
    }
   ],
   "source": [
    "df_ans_table.info()"
   ]
  },
  {
   "cell_type": "code",
   "execution_count": 217,
   "id": "d8648684",
   "metadata": {},
   "outputs": [
    {
     "data": {
      "text/html": [
       "<div>\n",
       "<style scoped>\n",
       "    .dataframe tbody tr th:only-of-type {\n",
       "        vertical-align: middle;\n",
       "    }\n",
       "\n",
       "    .dataframe tbody tr th {\n",
       "        vertical-align: top;\n",
       "    }\n",
       "\n",
       "    .dataframe thead th {\n",
       "        text-align: right;\n",
       "    }\n",
       "</style>\n",
       "<table border=\"1\" class=\"dataframe\">\n",
       "  <thead>\n",
       "    <tr style=\"text-align: right;\">\n",
       "      <th></th>\n",
       "      <th>Kérdés</th>\n",
       "      <th>Helyes válasz</th>\n",
       "      <th>Beérkezett válasz</th>\n",
       "    </tr>\n",
       "  </thead>\n",
       "  <tbody>\n",
       "    <tr>\n",
       "      <th>0</th>\n",
       "      <td>Ki NEM a főszer</td>\n",
       "      <td>C</td>\n",
       "      <td>A</td>\n",
       "    </tr>\n",
       "    <tr>\n",
       "      <th>1</th>\n",
       "      <td>Milyen állat Cs</td>\n",
       "      <td>D</td>\n",
       "      <td>D</td>\n",
       "    </tr>\n",
       "    <tr>\n",
       "      <th>2</th>\n",
       "      <td>Milyen pálcája</td>\n",
       "      <td>A</td>\n",
       "      <td>A</td>\n",
       "    </tr>\n",
       "    <tr>\n",
       "      <th>3</th>\n",
       "      <td>Milyen patrónus</td>\n",
       "      <td>C</td>\n",
       "      <td>C</td>\n",
       "    </tr>\n",
       "    <tr>\n",
       "      <th>4</th>\n",
       "      <td>Ki NEM a főszer</td>\n",
       "      <td>C</td>\n",
       "      <td>A</td>\n",
       "    </tr>\n",
       "    <tr>\n",
       "      <th>...</th>\n",
       "      <td>...</td>\n",
       "      <td>...</td>\n",
       "      <td>...</td>\n",
       "    </tr>\n",
       "    <tr>\n",
       "      <th>136</th>\n",
       "      <td>Milyen pálcája</td>\n",
       "      <td>A</td>\n",
       "      <td>A</td>\n",
       "    </tr>\n",
       "    <tr>\n",
       "      <th>137</th>\n",
       "      <td>Milyen patrónus</td>\n",
       "      <td>C</td>\n",
       "      <td>A</td>\n",
       "    </tr>\n",
       "    <tr>\n",
       "      <th>138</th>\n",
       "      <td>Hány összetevőj</td>\n",
       "      <td>B</td>\n",
       "      <td>A</td>\n",
       "    </tr>\n",
       "    <tr>\n",
       "      <th>139</th>\n",
       "      <td>Ki volt a Roxfo</td>\n",
       "      <td>A</td>\n",
       "      <td>A</td>\n",
       "    </tr>\n",
       "    <tr>\n",
       "      <th>140</th>\n",
       "      <td>Melyik országba</td>\n",
       "      <td>B</td>\n",
       "      <td>A</td>\n",
       "    </tr>\n",
       "  </tbody>\n",
       "</table>\n",
       "<p>141 rows × 3 columns</p>\n",
       "</div>"
      ],
      "text/plain": [
       "              Kérdés Helyes válasz Beérkezett válasz\n",
       "0    Ki NEM a főszer             C                 A\n",
       "1    Milyen állat Cs             D                 D\n",
       "2    Milyen pálcája              A                 A\n",
       "3    Milyen patrónus             C                 C\n",
       "4    Ki NEM a főszer             C                 A\n",
       "..               ...           ...               ...\n",
       "136  Milyen pálcája              A                 A\n",
       "137  Milyen patrónus             C                 A\n",
       "138  Hány összetevőj             B                 A\n",
       "139  Ki volt a Roxfo             A                 A\n",
       "140  Melyik országba             B                 A\n",
       "\n",
       "[141 rows x 3 columns]"
      ]
     },
     "execution_count": 217,
     "metadata": {},
     "output_type": "execute_result"
    }
   ],
   "source": [
    "df_ans_qs = '''\n",
    "SELECT substr(Question.question, 1, 15) AS 'Kérdés', Question.correct_option AS 'Helyes válasz', Answer.selected_option AS 'Beérkezett válasz' \n",
    "FROM hp_quiz_app_question AS Question\n",
    "JOIN hp_quiz_app_answer AS Answer\n",
    "ON (Answer.question_id = Question.id);\n",
    "'''\n",
    "\n",
    "pd.read_sql_query(df_ans_qs, conn)"
   ]
  },
  {
   "cell_type": "code",
   "execution_count": 218,
   "id": "cedaeea0",
   "metadata": {},
   "outputs": [
    {
     "data": {
      "text/plain": [
       "str"
      ]
     },
     "execution_count": 218,
     "metadata": {},
     "output_type": "execute_result"
    }
   ],
   "source": [
    "type(df_ans_qs)"
   ]
  },
  {
   "cell_type": "code",
   "execution_count": 219,
   "id": "9ed99642",
   "metadata": {},
   "outputs": [
    {
     "name": "stdout",
     "output_type": "stream",
     "text": [
      "              Kérdés Helyes válasz Beérkezett válasz\n",
      "0    Ki NEM a főszer             C                 A\n",
      "1    Milyen állat Cs             D                 D\n",
      "2    Milyen pálcája              A                 A\n",
      "3    Milyen patrónus             C                 C\n",
      "4    Ki NEM a főszer             C                 A\n",
      "..               ...           ...               ...\n",
      "136  Milyen pálcája              A                 A\n",
      "137  Milyen patrónus             C                 A\n",
      "138  Hány összetevőj             B                 A\n",
      "139  Ki volt a Roxfo             A                 A\n",
      "140  Melyik országba             B                 A\n",
      "\n",
      "[141 rows x 3 columns]\n"
     ]
    }
   ],
   "source": [
    "df_ansqs = '''\n",
    "SELECT substr(Question.question, 1, 15) AS 'Kérdés', Question.correct_option AS 'Helyes válasz', Answer.selected_option AS 'Beérkezett válasz'  \n",
    "FROM hp_quiz_app_question AS Question\n",
    "JOIN hp_quiz_app_answer AS Answer\n",
    "ON (Answer.question_id = Question.id);\n",
    "'''\n",
    "\n",
    "df_ansqs = pd.read_sql_query(df_ansqs, conn)\n",
    "print(df_ansqs)"
   ]
  },
  {
   "cell_type": "code",
   "execution_count": 220,
   "id": "8ce422b4",
   "metadata": {},
   "outputs": [
    {
     "data": {
      "text/plain": [
       "str"
      ]
     },
     "execution_count": 220,
     "metadata": {},
     "output_type": "execute_result"
    }
   ],
   "source": [
    "type(df_ans_qs)"
   ]
  },
  {
   "cell_type": "code",
   "execution_count": 222,
   "id": "dfc400a1",
   "metadata": {},
   "outputs": [
    {
     "data": {
      "text/html": [
       "<div>\n",
       "<style scoped>\n",
       "    .dataframe tbody tr th:only-of-type {\n",
       "        vertical-align: middle;\n",
       "    }\n",
       "\n",
       "    .dataframe tbody tr th {\n",
       "        vertical-align: top;\n",
       "    }\n",
       "\n",
       "    .dataframe thead th {\n",
       "        text-align: right;\n",
       "    }\n",
       "</style>\n",
       "<table border=\"1\" class=\"dataframe\">\n",
       "  <thead>\n",
       "    <tr style=\"text-align: right;\">\n",
       "      <th></th>\n",
       "      <th>id</th>\n",
       "      <th>Kérdés</th>\n",
       "      <th>Helyes válasz</th>\n",
       "      <th>Beérkezett válasz</th>\n",
       "      <th>Helyes válaszok száma</th>\n",
       "      <th>Beérkezett válaszok száma</th>\n",
       "    </tr>\n",
       "  </thead>\n",
       "  <tbody>\n",
       "    <tr>\n",
       "      <th>0</th>\n",
       "      <td>16</td>\n",
       "      <td>Hány összetevőj</td>\n",
       "      <td>B</td>\n",
       "      <td>D</td>\n",
       "      <td>12</td>\n",
       "      <td>19</td>\n",
       "    </tr>\n",
       "    <tr>\n",
       "      <th>1</th>\n",
       "      <td>11</td>\n",
       "      <td>Ki NEM a főszer</td>\n",
       "      <td>C</td>\n",
       "      <td>A</td>\n",
       "      <td>18</td>\n",
       "      <td>21</td>\n",
       "    </tr>\n",
       "    <tr>\n",
       "      <th>2</th>\n",
       "      <td>17</td>\n",
       "      <td>Ki volt a Roxfo</td>\n",
       "      <td>A</td>\n",
       "      <td>A</td>\n",
       "      <td>17</td>\n",
       "      <td>19</td>\n",
       "    </tr>\n",
       "    <tr>\n",
       "      <th>3</th>\n",
       "      <td>18</td>\n",
       "      <td>Melyik országba</td>\n",
       "      <td>B</td>\n",
       "      <td>B</td>\n",
       "      <td>10</td>\n",
       "      <td>19</td>\n",
       "    </tr>\n",
       "    <tr>\n",
       "      <th>4</th>\n",
       "      <td>14</td>\n",
       "      <td>Milyen patrónus</td>\n",
       "      <td>C</td>\n",
       "      <td>C</td>\n",
       "      <td>11</td>\n",
       "      <td>21</td>\n",
       "    </tr>\n",
       "    <tr>\n",
       "      <th>5</th>\n",
       "      <td>13</td>\n",
       "      <td>Milyen pálcája</td>\n",
       "      <td>A</td>\n",
       "      <td>A</td>\n",
       "      <td>11</td>\n",
       "      <td>21</td>\n",
       "    </tr>\n",
       "    <tr>\n",
       "      <th>6</th>\n",
       "      <td>12</td>\n",
       "      <td>Milyen állat Cs</td>\n",
       "      <td>D</td>\n",
       "      <td>D</td>\n",
       "      <td>16</td>\n",
       "      <td>21</td>\n",
       "    </tr>\n",
       "  </tbody>\n",
       "</table>\n",
       "</div>"
      ],
      "text/plain": [
       "   id           Kérdés Helyes válasz Beérkezett válasz  Helyes válaszok száma  \\\n",
       "0  16  Hány összetevőj             B                 D                     12   \n",
       "1  11  Ki NEM a főszer             C                 A                     18   \n",
       "2  17  Ki volt a Roxfo             A                 A                     17   \n",
       "3  18  Melyik országba             B                 B                     10   \n",
       "4  14  Milyen patrónus             C                 C                     11   \n",
       "5  13  Milyen pálcája              A                 A                     11   \n",
       "6  12  Milyen állat Cs             D                 D                     16   \n",
       "\n",
       "   Beérkezett válaszok száma  \n",
       "0                         19  \n",
       "1                         21  \n",
       "2                         19  \n",
       "3                         19  \n",
       "4                         21  \n",
       "5                         21  \n",
       "6                         21  "
      ]
     },
     "execution_count": 222,
     "metadata": {},
     "output_type": "execute_result"
    }
   ],
   "source": [
    "dfall = '''\n",
    "SELECT\n",
    "    Question.id,\n",
    "    substr(Question.question, 1, 15) AS 'Kérdés',\n",
    "    Question.correct_option AS 'Helyes válasz',\n",
    "    Answer.selected_option AS 'Beérkezett válasz',\n",
    "    SUM(CASE WHEN Answer.selected_option = Question.correct_option THEN 1 ELSE 0 END) AS 'Helyes válaszok száma',\n",
    "    COUNT(Answer.selected_option) AS 'Beérkezett válaszok száma'    \n",
    "FROM\n",
    "    hp_quiz_app_question AS Question\n",
    "JOIN\n",
    "    hp_quiz_app_answer AS Answer ON (Answer.question_id = Question.id)\n",
    "GROUP BY\n",
    "    Kérdés, 'Helyes válasz';\n",
    "'''\n",
    "\n",
    "dfall = pd.read_sql_query(dfall, conn)\n",
    "\n",
    "dfall.head(10)"
   ]
  },
  {
   "cell_type": "code",
   "execution_count": 223,
   "id": "a0288595",
   "metadata": {},
   "outputs": [
    {
     "data": {
      "text/plain": [
       "pandas.core.frame.DataFrame"
      ]
     },
     "execution_count": 223,
     "metadata": {},
     "output_type": "execute_result"
    }
   ],
   "source": [
    "type(dfall)"
   ]
  },
  {
   "cell_type": "code",
   "execution_count": 224,
   "id": "a380d93a",
   "metadata": {},
   "outputs": [
    {
     "name": "stdout",
     "output_type": "stream",
     "text": [
      "<class 'pandas.core.frame.DataFrame'>\n",
      "RangeIndex: 7 entries, 0 to 6\n",
      "Data columns (total 6 columns):\n",
      " #   Column                     Non-Null Count  Dtype \n",
      "---  ------                     --------------  ----- \n",
      " 0   id                         7 non-null      int64 \n",
      " 1   Kérdés                     7 non-null      object\n",
      " 2   Helyes válasz              7 non-null      object\n",
      " 3   Beérkezett válasz          7 non-null      object\n",
      " 4   Helyes válaszok száma      7 non-null      int64 \n",
      " 5   Beérkezett válaszok száma  7 non-null      int64 \n",
      "dtypes: int64(3), object(3)\n",
      "memory usage: 464.0+ bytes\n"
     ]
    }
   ],
   "source": [
    "dfall.info()"
   ]
  },
  {
   "cell_type": "code",
   "execution_count": 227,
   "id": "65f05ec0",
   "metadata": {},
   "outputs": [
    {
     "data": {
      "image/png": "[encoded data removed]",
      "text/plain": [
       "<Figure size 640x480 with 1 Axes>"
      ]
     },
     "metadata": {},
     "output_type": "display_data"
    }
   ],
   "source": [
    "import matplotlib.pyplot as plt\n",
    "\n",
    "sns.barplot(x='Beérkezett válaszok száma', y='Kérdés', data=dfall, hue='Helyes válaszok száma')\n",
    "plt.show()"
   ]
  },
  {
   "cell_type": "code",
   "execution_count": 228,
   "id": "c9013d35",
   "metadata": {},
   "outputs": [
    {
     "data": {
      "image/png": "[encoded data removed]",
      "text/plain": [
       "<Figure size 640x480 with 1 Axes>"
      ]
     },
     "metadata": {},
     "output_type": "display_data"
    }
   ],
   "source": [
    "kerdesek = ('k1', 'k2', 'k3', 'k4', 'k5', 'k6', 'k7')\n",
    "valaszok = {\n",
    "    'Beérkezett válaszok száma': (21, 21, 21, 21, 19, 19, 19),\n",
    "    'Helyes válaszok száma': (18, 16, 11, 11, 12, 17, 10),\n",
    "}\n",
    "\n",
    "x = np.arange(len(kerdesek))\n",
    "width = 0.25\n",
    "multiplier = 0\n",
    "\n",
    "fig, ax = plt.subplots(layout='constrained')\n",
    "\n",
    "for attribute, count in valaszok.items():\n",
    "    offset = width * multiplier\n",
    "    rects = ax.bar(x + offset, count, width, label=attribute)\n",
    "    ax.bar_label(rects, padding=3)\n",
    "    multiplier += 1\n",
    "    \n",
    "ax.set_ylabel('Darab (db)')\n",
    "ax.set_title('Beérkezett válaszok és helyes válaszok')\n",
    "ax.set_xticks(x + width, kerdesek)\n",
    "ax.legend(loc='upper left', ncols=3)\n",
    "ax.set_ylim(0, 25)\n",
    "\n",
    "plt.show()    \n",
    "    "
   ]
  },
  {
   "cell_type": "code",
   "execution_count": 231,
   "id": "ae0a764a",
   "metadata": {},
   "outputs": [
    {
     "data": {
      "image/png": "[encoded data removed]",
      "text/plain": [
       "<Figure size 640x480 with 1 Axes>"
      ]
     },
     "metadata": {},
     "output_type": "display_data"
    }
   ],
   "source": [
    "g = sns.countplot(y='Kérdés', data=df_ansqs, hue='Beérkezett válasz')"
   ]
  },
  {
   "cell_type": "code",
   "execution_count": 232,
   "id": "f4d0612a",
   "metadata": {},
   "outputs": [
    {
     "data": {
      "image/png": "[encoded data removed]",
      "text/plain": [
       "<Figure size 634.736x500 with 1 Axes>"
      ]
     },
     "metadata": {},
     "output_type": "display_data"
    }
   ],
   "source": [
    "g = sns.displot(y='Kérdés', data=df_ansqs, hue='Beérkezett válasz', palette='seismic');"
   ]
  },
  {
   "cell_type": "code",
   "execution_count": 234,
   "id": "fb62feff",
   "metadata": {},
   "outputs": [
    {
     "data": {
      "text/plain": [
       "<Axes: xlabel='count', ylabel='Kérdés'>"
      ]
     },
     "execution_count": 234,
     "metadata": {},
     "output_type": "execute_result"
    },
    {
     "data": {
      "image/png": "[encoded data removed]",
      "text/plain": [
       "<Figure size 640x480 with 1 Axes>"
      ]
     },
     "metadata": {},
     "output_type": "display_data"
    }
   ],
   "source": [
    "sns.countplot(y='Kérdés', data=df_ansqs, hue='Helyes válasz', palette='prism')"
   ]
  },
  {
   "cell_type": "code",
   "execution_count": 235,
   "id": "a0e9baaf",
   "metadata": {},
   "outputs": [
    {
     "data": {
      "text/html": [
       "<div>\n",
       "<style scoped>\n",
       "    .dataframe tbody tr th:only-of-type {\n",
       "        vertical-align: middle;\n",
       "    }\n",
       "\n",
       "    .dataframe tbody tr th {\n",
       "        vertical-align: top;\n",
       "    }\n",
       "\n",
       "    .dataframe thead th {\n",
       "        text-align: right;\n",
       "    }\n",
       "</style>\n",
       "<table border=\"1\" class=\"dataframe\">\n",
       "  <thead>\n",
       "    <tr style=\"text-align: right;\">\n",
       "      <th></th>\n",
       "      <th>id</th>\n",
       "      <th>Kérdés</th>\n",
       "      <th>Helyes válasz</th>\n",
       "      <th>Beérkezett válasz</th>\n",
       "      <th>Helyes válaszok száma</th>\n",
       "      <th>Beérkezett válaszok száma</th>\n",
       "    </tr>\n",
       "  </thead>\n",
       "  <tbody>\n",
       "    <tr>\n",
       "      <th>0</th>\n",
       "      <td>11</td>\n",
       "      <td>Ki NEM a főszer</td>\n",
       "      <td>C</td>\n",
       "      <td>A</td>\n",
       "      <td>18</td>\n",
       "      <td>21</td>\n",
       "    </tr>\n",
       "  </tbody>\n",
       "</table>\n",
       "</div>"
      ],
      "text/plain": [
       "   id           Kérdés Helyes válasz Beérkezett válasz  Helyes válaszok száma  \\\n",
       "0  11  Ki NEM a főszer             C                 A                     18   \n",
       "\n",
       "   Beérkezett válaszok száma  \n",
       "0                         21  "
      ]
     },
     "execution_count": 235,
     "metadata": {},
     "output_type": "execute_result"
    }
   ],
   "source": [
    "dfq1 = '''\n",
    "SELECT\n",
    "    Question.id,\n",
    "    substr(Question.question, 1, 15) AS 'Kérdés',\n",
    "    Question.correct_option AS 'Helyes válasz',\n",
    "    Answer.selected_option AS 'Beérkezett válasz',\n",
    "    SUM(CASE WHEN Answer.selected_option = Question.correct_option THEN 1 ELSE 0 END) AS 'Helyes válaszok száma',\n",
    "    COUNT(Answer.selected_option) AS 'Beérkezett válaszok száma'    \n",
    "FROM\n",
    "    hp_quiz_app_question AS Question\n",
    "JOIN\n",
    "    hp_quiz_app_answer AS Answer ON (Answer.question_id = Question.id)\n",
    "WHERE Question.id=11    \n",
    "GROUP BY\n",
    "    Kérdés, 'Helyes válasz';\n",
    "'''\n",
    "\n",
    "dfq1 = pd.read_sql_query(dfq1, conn)\n",
    "dfq1.head()"
   ]
  },
  {
   "cell_type": "code",
   "execution_count": 236,
   "id": "dc9a47fa",
   "metadata": {},
   "outputs": [
    {
     "data": {
      "text/html": [
       "<div>\n",
       "<style scoped>\n",
       "    .dataframe tbody tr th:only-of-type {\n",
       "        vertical-align: middle;\n",
       "    }\n",
       "\n",
       "    .dataframe tbody tr th {\n",
       "        vertical-align: top;\n",
       "    }\n",
       "\n",
       "    .dataframe thead th {\n",
       "        text-align: right;\n",
       "    }\n",
       "</style>\n",
       "<table border=\"1\" class=\"dataframe\">\n",
       "  <thead>\n",
       "    <tr style=\"text-align: right;\">\n",
       "      <th></th>\n",
       "      <th>id</th>\n",
       "      <th>Kérdés</th>\n",
       "      <th>Helyes válasz</th>\n",
       "      <th>Beérkezett válasz</th>\n",
       "      <th>Helyes válaszok száma</th>\n",
       "      <th>Beérkezett válaszok száma</th>\n",
       "    </tr>\n",
       "  </thead>\n",
       "  <tbody>\n",
       "    <tr>\n",
       "      <th>0</th>\n",
       "      <td>12</td>\n",
       "      <td>Milyen állat Cs</td>\n",
       "      <td>D</td>\n",
       "      <td>D</td>\n",
       "      <td>16</td>\n",
       "      <td>21</td>\n",
       "    </tr>\n",
       "  </tbody>\n",
       "</table>\n",
       "</div>"
      ],
      "text/plain": [
       "   id           Kérdés Helyes válasz Beérkezett válasz  Helyes válaszok száma  \\\n",
       "0  12  Milyen állat Cs             D                 D                     16   \n",
       "\n",
       "   Beérkezett válaszok száma  \n",
       "0                         21  "
      ]
     },
     "execution_count": 236,
     "metadata": {},
     "output_type": "execute_result"
    }
   ],
   "source": [
    "dfq2 = '''\n",
    "SELECT\n",
    "    Question.id,\n",
    "    substr(Question.question, 1, 15) AS 'Kérdés',\n",
    "    Question.correct_option AS 'Helyes válasz',\n",
    "    Answer.selected_option AS 'Beérkezett válasz',\n",
    "    SUM(CASE WHEN Answer.selected_option = Question.correct_option THEN 1 ELSE 0 END) AS 'Helyes válaszok száma',\n",
    "    COUNT(Answer.selected_option) AS 'Beérkezett válaszok száma'    \n",
    "FROM\n",
    "    hp_quiz_app_question AS Question\n",
    "JOIN\n",
    "    hp_quiz_app_answer AS Answer ON (Answer.question_id = Question.id)\n",
    "WHERE Question.id=12    \n",
    "GROUP BY\n",
    "    Kérdés, 'Helyes válasz';\n",
    "'''\n",
    "\n",
    "dfq2 = pd.read_sql_query(dfq2, conn)\n",
    "dfq2.head()"
   ]
  },
  {
   "cell_type": "code",
   "execution_count": 237,
   "id": "6cff0102",
   "metadata": {},
   "outputs": [
    {
     "data": {
      "text/html": [
       "<div>\n",
       "<style scoped>\n",
       "    .dataframe tbody tr th:only-of-type {\n",
       "        vertical-align: middle;\n",
       "    }\n",
       "\n",
       "    .dataframe tbody tr th {\n",
       "        vertical-align: top;\n",
       "    }\n",
       "\n",
       "    .dataframe thead th {\n",
       "        text-align: right;\n",
       "    }\n",
       "</style>\n",
       "<table border=\"1\" class=\"dataframe\">\n",
       "  <thead>\n",
       "    <tr style=\"text-align: right;\">\n",
       "      <th></th>\n",
       "      <th>id</th>\n",
       "      <th>Kérdés</th>\n",
       "      <th>Helyes válasz</th>\n",
       "      <th>Beérkezett válasz</th>\n",
       "      <th>Helyes válaszok száma</th>\n",
       "      <th>Beérkezett válaszok száma</th>\n",
       "    </tr>\n",
       "  </thead>\n",
       "  <tbody>\n",
       "    <tr>\n",
       "      <th>0</th>\n",
       "      <td>13</td>\n",
       "      <td>Milyen pálcája</td>\n",
       "      <td>A</td>\n",
       "      <td>A</td>\n",
       "      <td>11</td>\n",
       "      <td>21</td>\n",
       "    </tr>\n",
       "  </tbody>\n",
       "</table>\n",
       "</div>"
      ],
      "text/plain": [
       "   id           Kérdés Helyes válasz Beérkezett válasz  Helyes válaszok száma  \\\n",
       "0  13  Milyen pálcája              A                 A                     11   \n",
       "\n",
       "   Beérkezett válaszok száma  \n",
       "0                         21  "
      ]
     },
     "execution_count": 237,
     "metadata": {},
     "output_type": "execute_result"
    }
   ],
   "source": [
    "dfq3 = '''\n",
    "SELECT\n",
    "    Question.id,\n",
    "    substr(Question.question, 1, 15) AS 'Kérdés',\n",
    "    Question.correct_option AS 'Helyes válasz',\n",
    "    Answer.selected_option AS 'Beérkezett válasz',\n",
    "    SUM(CASE WHEN Answer.selected_option = Question.correct_option THEN 1 ELSE 0 END) AS 'Helyes válaszok száma',\n",
    "    COUNT(Answer.selected_option) AS 'Beérkezett válaszok száma'    \n",
    "FROM\n",
    "    hp_quiz_app_question AS Question\n",
    "JOIN\n",
    "    hp_quiz_app_answer AS Answer ON (Answer.question_id = Question.id)\n",
    "WHERE Question.id=13    \n",
    "GROUP BY\n",
    "    Kérdés, 'Helyes válasz';\n",
    "'''\n",
    "\n",
    "dfq3 = pd.read_sql_query(dfq3, conn)\n",
    "dfq3.head()"
   ]
  },
  {
   "cell_type": "code",
   "execution_count": 238,
   "id": "b1f11e14",
   "metadata": {},
   "outputs": [
    {
     "data": {
      "text/html": [
       "<div>\n",
       "<style scoped>\n",
       "    .dataframe tbody tr th:only-of-type {\n",
       "        vertical-align: middle;\n",
       "    }\n",
       "\n",
       "    .dataframe tbody tr th {\n",
       "        vertical-align: top;\n",
       "    }\n",
       "\n",
       "    .dataframe thead th {\n",
       "        text-align: right;\n",
       "    }\n",
       "</style>\n",
       "<table border=\"1\" class=\"dataframe\">\n",
       "  <thead>\n",
       "    <tr style=\"text-align: right;\">\n",
       "      <th></th>\n",
       "      <th>id</th>\n",
       "      <th>Kérdés</th>\n",
       "      <th>Helyes válasz</th>\n",
       "      <th>Beérkezett válasz</th>\n",
       "      <th>Helyes válaszok száma</th>\n",
       "      <th>Beérkezett válaszok száma</th>\n",
       "    </tr>\n",
       "  </thead>\n",
       "  <tbody>\n",
       "    <tr>\n",
       "      <th>0</th>\n",
       "      <td>14</td>\n",
       "      <td>Milyen patrónus</td>\n",
       "      <td>C</td>\n",
       "      <td>C</td>\n",
       "      <td>11</td>\n",
       "      <td>21</td>\n",
       "    </tr>\n",
       "  </tbody>\n",
       "</table>\n",
       "</div>"
      ],
      "text/plain": [
       "   id           Kérdés Helyes válasz Beérkezett válasz  Helyes válaszok száma  \\\n",
       "0  14  Milyen patrónus             C                 C                     11   \n",
       "\n",
       "   Beérkezett válaszok száma  \n",
       "0                         21  "
      ]
     },
     "execution_count": 238,
     "metadata": {},
     "output_type": "execute_result"
    }
   ],
   "source": [
    "dfq4 = '''\n",
    "SELECT\n",
    "    Question.id,\n",
    "    substr(Question.question, 1, 15) AS 'Kérdés',\n",
    "    Question.correct_option AS 'Helyes válasz',\n",
    "    Answer.selected_option AS 'Beérkezett válasz',\n",
    "    SUM(CASE WHEN Answer.selected_option = Question.correct_option THEN 1 ELSE 0 END) AS 'Helyes válaszok száma',\n",
    "    COUNT(Answer.selected_option) AS 'Beérkezett válaszok száma'    \n",
    "FROM\n",
    "    hp_quiz_app_question AS Question\n",
    "JOIN\n",
    "    hp_quiz_app_answer AS Answer ON (Answer.question_id = Question.id)\n",
    "WHERE Question.id=14    \n",
    "GROUP BY\n",
    "    Kérdés, 'Helyes válasz';\n",
    "'''\n",
    "\n",
    "dfq4 = pd.read_sql_query(dfq4, conn)\n",
    "dfq4.head()"
   ]
  },
  {
   "cell_type": "code",
   "execution_count": 239,
   "id": "b48c1068",
   "metadata": {},
   "outputs": [
    {
     "data": {
      "text/html": [
       "<div>\n",
       "<style scoped>\n",
       "    .dataframe tbody tr th:only-of-type {\n",
       "        vertical-align: middle;\n",
       "    }\n",
       "\n",
       "    .dataframe tbody tr th {\n",
       "        vertical-align: top;\n",
       "    }\n",
       "\n",
       "    .dataframe thead th {\n",
       "        text-align: right;\n",
       "    }\n",
       "</style>\n",
       "<table border=\"1\" class=\"dataframe\">\n",
       "  <thead>\n",
       "    <tr style=\"text-align: right;\">\n",
       "      <th></th>\n",
       "      <th>id</th>\n",
       "      <th>Kérdés</th>\n",
       "      <th>Helyes válasz</th>\n",
       "      <th>Beérkezett válasz</th>\n",
       "      <th>Helyes válaszok száma</th>\n",
       "      <th>Beérkezett válaszok száma</th>\n",
       "    </tr>\n",
       "  </thead>\n",
       "  <tbody>\n",
       "    <tr>\n",
       "      <th>0</th>\n",
       "      <td>16</td>\n",
       "      <td>Hány összetevőj</td>\n",
       "      <td>B</td>\n",
       "      <td>D</td>\n",
       "      <td>12</td>\n",
       "      <td>19</td>\n",
       "    </tr>\n",
       "  </tbody>\n",
       "</table>\n",
       "</div>"
      ],
      "text/plain": [
       "   id           Kérdés Helyes válasz Beérkezett válasz  Helyes válaszok száma  \\\n",
       "0  16  Hány összetevőj             B                 D                     12   \n",
       "\n",
       "   Beérkezett válaszok száma  \n",
       "0                         19  "
      ]
     },
     "execution_count": 239,
     "metadata": {},
     "output_type": "execute_result"
    }
   ],
   "source": [
    "dfq5 = '''\n",
    "SELECT\n",
    "    Question.id,\n",
    "    substr(Question.question, 1, 15) AS 'Kérdés',\n",
    "    Question.correct_option AS 'Helyes válasz',\n",
    "    Answer.selected_option AS 'Beérkezett válasz',\n",
    "    SUM(CASE WHEN Answer.selected_option = Question.correct_option THEN 1 ELSE 0 END) AS 'Helyes válaszok száma',\n",
    "    COUNT(Answer.selected_option) AS 'Beérkezett válaszok száma'    \n",
    "FROM\n",
    "    hp_quiz_app_question AS Question\n",
    "JOIN\n",
    "    hp_quiz_app_answer AS Answer ON (Answer.question_id = Question.id)\n",
    "WHERE Question.id=16    \n",
    "GROUP BY\n",
    "    Kérdés, 'Helyes válasz';\n",
    "'''\n",
    "\n",
    "dfq5 = pd.read_sql_query(dfq5, conn)\n",
    "dfq5.head()"
   ]
  },
  {
   "cell_type": "code",
   "execution_count": 240,
   "id": "5c6db12a",
   "metadata": {},
   "outputs": [
    {
     "data": {
      "text/html": [
       "<div>\n",
       "<style scoped>\n",
       "    .dataframe tbody tr th:only-of-type {\n",
       "        vertical-align: middle;\n",
       "    }\n",
       "\n",
       "    .dataframe tbody tr th {\n",
       "        vertical-align: top;\n",
       "    }\n",
       "\n",
       "    .dataframe thead th {\n",
       "        text-align: right;\n",
       "    }\n",
       "</style>\n",
       "<table border=\"1\" class=\"dataframe\">\n",
       "  <thead>\n",
       "    <tr style=\"text-align: right;\">\n",
       "      <th></th>\n",
       "      <th>id</th>\n",
       "      <th>Kérdés</th>\n",
       "      <th>Helyes válasz</th>\n",
       "      <th>Beérkezett válasz</th>\n",
       "      <th>Helyes válaszok száma</th>\n",
       "      <th>Beérkezett válaszok száma</th>\n",
       "    </tr>\n",
       "  </thead>\n",
       "  <tbody>\n",
       "    <tr>\n",
       "      <th>0</th>\n",
       "      <td>17</td>\n",
       "      <td>Ki volt a Roxfo</td>\n",
       "      <td>A</td>\n",
       "      <td>A</td>\n",
       "      <td>17</td>\n",
       "      <td>19</td>\n",
       "    </tr>\n",
       "  </tbody>\n",
       "</table>\n",
       "</div>"
      ],
      "text/plain": [
       "   id           Kérdés Helyes válasz Beérkezett válasz  Helyes válaszok száma  \\\n",
       "0  17  Ki volt a Roxfo             A                 A                     17   \n",
       "\n",
       "   Beérkezett válaszok száma  \n",
       "0                         19  "
      ]
     },
     "execution_count": 240,
     "metadata": {},
     "output_type": "execute_result"
    }
   ],
   "source": [
    "dfq6 = '''\n",
    "SELECT\n",
    "    Question.id,\n",
    "    substr(Question.question, 1, 15) AS 'Kérdés',\n",
    "    Question.correct_option AS 'Helyes válasz',\n",
    "    Answer.selected_option AS 'Beérkezett válasz',\n",
    "    SUM(CASE WHEN Answer.selected_option = Question.correct_option THEN 1 ELSE 0 END) AS 'Helyes válaszok száma',\n",
    "    COUNT(Answer.selected_option) AS 'Beérkezett válaszok száma'    \n",
    "FROM\n",
    "    hp_quiz_app_question AS Question\n",
    "JOIN\n",
    "    hp_quiz_app_answer AS Answer ON (Answer.question_id = Question.id)\n",
    "WHERE Question.id=17    \n",
    "GROUP BY\n",
    "    Kérdés, 'Helyes válasz';\n",
    "'''\n",
    "\n",
    "dfq6 = pd.read_sql_query(dfq6, conn)\n",
    "dfq6.head()"
   ]
  },
  {
   "cell_type": "code",
   "execution_count": 241,
   "id": "1c95c970",
   "metadata": {},
   "outputs": [
    {
     "data": {
      "text/html": [
       "<div>\n",
       "<style scoped>\n",
       "    .dataframe tbody tr th:only-of-type {\n",
       "        vertical-align: middle;\n",
       "    }\n",
       "\n",
       "    .dataframe tbody tr th {\n",
       "        vertical-align: top;\n",
       "    }\n",
       "\n",
       "    .dataframe thead th {\n",
       "        text-align: right;\n",
       "    }\n",
       "</style>\n",
       "<table border=\"1\" class=\"dataframe\">\n",
       "  <thead>\n",
       "    <tr style=\"text-align: right;\">\n",
       "      <th></th>\n",
       "      <th>id</th>\n",
       "      <th>Kérdés</th>\n",
       "      <th>Helyes válasz</th>\n",
       "      <th>Beérkezett válasz</th>\n",
       "      <th>Helyes válaszok száma</th>\n",
       "      <th>Beérkezett válaszok száma</th>\n",
       "    </tr>\n",
       "  </thead>\n",
       "  <tbody>\n",
       "    <tr>\n",
       "      <th>0</th>\n",
       "      <td>18</td>\n",
       "      <td>Melyik országba</td>\n",
       "      <td>B</td>\n",
       "      <td>B</td>\n",
       "      <td>10</td>\n",
       "      <td>19</td>\n",
       "    </tr>\n",
       "  </tbody>\n",
       "</table>\n",
       "</div>"
      ],
      "text/plain": [
       "   id           Kérdés Helyes válasz Beérkezett válasz  Helyes válaszok száma  \\\n",
       "0  18  Melyik országba             B                 B                     10   \n",
       "\n",
       "   Beérkezett válaszok száma  \n",
       "0                         19  "
      ]
     },
     "execution_count": 241,
     "metadata": {},
     "output_type": "execute_result"
    }
   ],
   "source": [
    "dfq7 = '''\n",
    "SELECT\n",
    "    Question.id,\n",
    "    substr(Question.question, 1, 15) AS 'Kérdés',\n",
    "    Question.correct_option AS 'Helyes válasz',\n",
    "    Answer.selected_option AS 'Beérkezett válasz',\n",
    "    SUM(CASE WHEN Answer.selected_option = Question.correct_option THEN 1 ELSE 0 END) AS 'Helyes válaszok száma',\n",
    "    COUNT(Answer.selected_option) AS 'Beérkezett válaszok száma'    \n",
    "FROM\n",
    "    hp_quiz_app_question AS Question\n",
    "JOIN\n",
    "    hp_quiz_app_answer AS Answer ON (Answer.question_id = Question.id)\n",
    "WHERE Question.id=18    \n",
    "GROUP BY\n",
    "    Kérdés, 'Helyes válasz';\n",
    "'''\n",
    "\n",
    "dfq7 = pd.read_sql_query(dfq7, conn)\n",
    "dfq7.head()"
   ]
  },
  {
   "cell_type": "code",
   "execution_count": 242,
   "id": "cfd5a8c7",
   "metadata": {},
   "outputs": [
    {
     "data": {
      "image/png": "[encoded data removed]",
      "text/plain": [
       "<Figure size 200x200 with 1 Axes>"
      ]
     },
     "metadata": {},
     "output_type": "display_data"
    },
    {
     "data": {
      "image/png": "[encoded data removed]",
      "text/plain": [
       "<Figure size 200x200 with 1 Axes>"
      ]
     },
     "metadata": {},
     "output_type": "display_data"
    },
    {
     "data": {
      "image/png": "[encoded data removed]",
      "text/plain": [
       "<Figure size 200x200 with 1 Axes>"
      ]
     },
     "metadata": {},
     "output_type": "display_data"
    },
    {
     "data": {
      "image/png": "[encoded data removed]",
      "text/plain": [
       "<Figure size 200x200 with 1 Axes>"
      ]
     },
     "metadata": {},
     "output_type": "display_data"
    }
   ],
   "source": [
    "# Az adatkeret1 létrehozása \n",
    "data = {'values': [12, 19]}\n",
    "dfq5 = pd.DataFrame(data)\n",
    "\n",
    "# Pie plot1 létrehozása\n",
    "plt.figure(figsize=(2, 2))\n",
    "plt.pie(dfq5['values'], labels=['Helyes válaszok', 'Helytelen válaszok'], startangle=90,autopct='%.0f%%', shadow=True,\n",
    "              explode=(0.1, 0.0))\n",
    "plt.title('Hány összetevője van a Százfűlé-főzetnek?')\n",
    "plt.show()\n",
    "\n",
    "# Az adatkeret2 létrehozása \n",
    "data = {'values': [16, 21]}\n",
    "dfq2 = pd.DataFrame(data)\n",
    "\n",
    "# Pie plot2 létrehozása\n",
    "plt.figure(figsize=(2, 2))\n",
    "plt.pie(dfq2['values'], labels=['Helyes válaszok', 'Helytelen válaszok'], startangle=90,autopct='%.0f%%', shadow=True,\n",
    "              explode=(0.1, 0.0))\n",
    "plt.title('Milyen állat Csikócsőr?')\n",
    "plt.show()\n",
    "\n",
    "# Az adatkeret3 létrehozása \n",
    "data = {'values': [10, 19]}\n",
    "dfq7 = pd.DataFrame(data)\n",
    "\n",
    "# Pie plot3 létrehozása\n",
    "plt.figure(figsize=(2, 2))\n",
    "plt.pie(dfq7['values'], labels=['Helyes válaszok', 'Helytelen válaszok'], startangle=90,autopct='%.0f%%', shadow=True,\n",
    "              explode=(0.1, 0.0))\n",
    "plt.title('Melyik országban bujkált Voldemort?')\n",
    "plt.show()\n",
    "\n",
    "# Az adatkeret4 létrehozása \n",
    "data = {'values': [11, 21]}\n",
    "dfq3 = pd.DataFrame(data)\n",
    "\n",
    "# Pie plot4 létrehozása\n",
    "plt.figure(figsize=(2, 2))\n",
    "plt.pie(dfq3['values'], labels=['Helyes válaszok', 'Helytelen válaszok'], startangle=90,autopct='%.0f%%', shadow=True,\n",
    "              explode=(0.1, 0.0))\n",
    "plt.title('Milyen pálcája van Hermione Graangernek?')\n",
    "plt.show()"
   ]
  },
  {
   "cell_type": "code",
   "execution_count": 243,
   "id": "de997432",
   "metadata": {},
   "outputs": [
    {
     "data": {
      "text/html": [
       "<div>\n",
       "<style scoped>\n",
       "    .dataframe tbody tr th:only-of-type {\n",
       "        vertical-align: middle;\n",
       "    }\n",
       "\n",
       "    .dataframe tbody tr th {\n",
       "        vertical-align: top;\n",
       "    }\n",
       "\n",
       "    .dataframe thead th {\n",
       "        text-align: right;\n",
       "    }\n",
       "</style>\n",
       "<table border=\"1\" class=\"dataframe\">\n",
       "  <thead>\n",
       "    <tr style=\"text-align: right;\">\n",
       "      <th></th>\n",
       "      <th>Kérdés</th>\n",
       "      <th>Helyes válasz</th>\n",
       "      <th>Beérkezett válasz</th>\n",
       "    </tr>\n",
       "  </thead>\n",
       "  <tbody>\n",
       "    <tr>\n",
       "      <th>0</th>\n",
       "      <td>Ki NEM a főszer</td>\n",
       "      <td>C</td>\n",
       "      <td>C</td>\n",
       "    </tr>\n",
       "    <tr>\n",
       "      <th>1</th>\n",
       "      <td>Milyen állat Cs</td>\n",
       "      <td>D</td>\n",
       "      <td>D</td>\n",
       "    </tr>\n",
       "    <tr>\n",
       "      <th>2</th>\n",
       "      <td>Milyen pálcája</td>\n",
       "      <td>A</td>\n",
       "      <td>A</td>\n",
       "    </tr>\n",
       "    <tr>\n",
       "      <th>3</th>\n",
       "      <td>Milyen patrónus</td>\n",
       "      <td>C</td>\n",
       "      <td>D</td>\n",
       "    </tr>\n",
       "    <tr>\n",
       "      <th>4</th>\n",
       "      <td>Hány összetevőj</td>\n",
       "      <td>B</td>\n",
       "      <td>D</td>\n",
       "    </tr>\n",
       "    <tr>\n",
       "      <th>5</th>\n",
       "      <td>Ki volt a Roxfo</td>\n",
       "      <td>A</td>\n",
       "      <td>A</td>\n",
       "    </tr>\n",
       "    <tr>\n",
       "      <th>6</th>\n",
       "      <td>Melyik országba</td>\n",
       "      <td>B</td>\n",
       "      <td>B</td>\n",
       "    </tr>\n",
       "  </tbody>\n",
       "</table>\n",
       "</div>"
      ],
      "text/plain": [
       "            Kérdés Helyes válasz Beérkezett válasz\n",
       "0  Ki NEM a főszer             C                 C\n",
       "1  Milyen állat Cs             D                 D\n",
       "2  Milyen pálcája              A                 A\n",
       "3  Milyen patrónus             C                 D\n",
       "4  Hány összetevőj             B                 D\n",
       "5  Ki volt a Roxfo             A                 A\n",
       "6  Melyik országba             B                 B"
      ]
     },
     "execution_count": 243,
     "metadata": {},
     "output_type": "execute_result"
    }
   ],
   "source": [
    "df_completed_9_15 = '''\n",
    "SELECT substr(Question.question, 1, 15) AS 'Kérdés', Question.correct_option AS 'Helyes válasz', Answer.selected_option AS 'Beérkezett válasz' \n",
    "FROM hp_quiz_app_question AS Question\n",
    "JOIN hp_quiz_app_answer AS Answer\n",
    "ON (Answer.question_id = Question.id)\n",
    "WHERE Answer.id BETWEEN 9 AND 15;\n",
    "'''\n",
    "\n",
    "pd.read_sql_query(df_completed_9_15, conn)\n",
    "\n",
    "# 9-15 id közötti válaszok"
   ]
  },
  {
   "cell_type": "code",
   "execution_count": 244,
   "id": "d2dd88e9",
   "metadata": {},
   "outputs": [
    {
     "data": {
      "text/html": [
       "<div>\n",
       "<style scoped>\n",
       "    .dataframe tbody tr th:only-of-type {\n",
       "        vertical-align: middle;\n",
       "    }\n",
       "\n",
       "    .dataframe tbody tr th {\n",
       "        vertical-align: top;\n",
       "    }\n",
       "\n",
       "    .dataframe thead th {\n",
       "        text-align: right;\n",
       "    }\n",
       "</style>\n",
       "<table border=\"1\" class=\"dataframe\">\n",
       "  <thead>\n",
       "    <tr style=\"text-align: right;\">\n",
       "      <th></th>\n",
       "      <th>Helyes válaszok száma</th>\n",
       "    </tr>\n",
       "  </thead>\n",
       "  <tbody>\n",
       "    <tr>\n",
       "      <th>0</th>\n",
       "      <td>5</td>\n",
       "    </tr>\n",
       "  </tbody>\n",
       "</table>\n",
       "</div>"
      ],
      "text/plain": [
       "   Helyes válaszok száma\n",
       "0                      5"
      ]
     },
     "execution_count": 244,
     "metadata": {},
     "output_type": "execute_result"
    }
   ],
   "source": [
    "df_9_15 = '''\n",
    "SELECT SUM(CASE WHEN Answer.selected_option = Question.correct_option THEN 1 ELSE 0 END) AS 'Helyes válaszok száma'\n",
    "FROM hp_quiz_app_question AS Question\n",
    "JOIN hp_quiz_app_answer AS Answer\n",
    "ON (Answer.question_id = Question.id)\n",
    "WHERE Answer.id BETWEEN 9 AND 15;\n",
    "'''\n",
    "\n",
    "pd.read_sql_query(df_9_15, conn)\n",
    "\n",
    "# 9-15 id - helyes válaszok száma"
   ]
  },
  {
   "cell_type": "code",
   "execution_count": 245,
   "id": "6bd9dda7",
   "metadata": {},
   "outputs": [
    {
     "data": {
      "text/html": [
       "<div>\n",
       "<style scoped>\n",
       "    .dataframe tbody tr th:only-of-type {\n",
       "        vertical-align: middle;\n",
       "    }\n",
       "\n",
       "    .dataframe tbody tr th {\n",
       "        vertical-align: top;\n",
       "    }\n",
       "\n",
       "    .dataframe thead th {\n",
       "        text-align: right;\n",
       "    }\n",
       "</style>\n",
       "<table border=\"1\" class=\"dataframe\">\n",
       "  <thead>\n",
       "    <tr style=\"text-align: right;\">\n",
       "      <th></th>\n",
       "      <th>Kérdés</th>\n",
       "      <th>Helyes válasz</th>\n",
       "      <th>Beérkezett válasz</th>\n",
       "    </tr>\n",
       "  </thead>\n",
       "  <tbody>\n",
       "    <tr>\n",
       "      <th>0</th>\n",
       "      <td>Ki NEM a főszer</td>\n",
       "      <td>C</td>\n",
       "      <td>C</td>\n",
       "    </tr>\n",
       "    <tr>\n",
       "      <th>1</th>\n",
       "      <td>Milyen állat Cs</td>\n",
       "      <td>D</td>\n",
       "      <td>D</td>\n",
       "    </tr>\n",
       "    <tr>\n",
       "      <th>2</th>\n",
       "      <td>Milyen pálcája</td>\n",
       "      <td>A</td>\n",
       "      <td>A</td>\n",
       "    </tr>\n",
       "    <tr>\n",
       "      <th>3</th>\n",
       "      <td>Milyen patrónus</td>\n",
       "      <td>C</td>\n",
       "      <td>C</td>\n",
       "    </tr>\n",
       "    <tr>\n",
       "      <th>4</th>\n",
       "      <td>Hány összetevőj</td>\n",
       "      <td>B</td>\n",
       "      <td>B</td>\n",
       "    </tr>\n",
       "    <tr>\n",
       "      <th>5</th>\n",
       "      <td>Ki volt a Roxfo</td>\n",
       "      <td>A</td>\n",
       "      <td>A</td>\n",
       "    </tr>\n",
       "    <tr>\n",
       "      <th>6</th>\n",
       "      <td>Melyik országba</td>\n",
       "      <td>B</td>\n",
       "      <td>B</td>\n",
       "    </tr>\n",
       "  </tbody>\n",
       "</table>\n",
       "</div>"
      ],
      "text/plain": [
       "            Kérdés Helyes válasz Beérkezett válasz\n",
       "0  Ki NEM a főszer             C                 C\n",
       "1  Milyen állat Cs             D                 D\n",
       "2  Milyen pálcája              A                 A\n",
       "3  Milyen patrónus             C                 C\n",
       "4  Hány összetevőj             B                 B\n",
       "5  Ki volt a Roxfo             A                 A\n",
       "6  Melyik országba             B                 B"
      ]
     },
     "execution_count": 245,
     "metadata": {},
     "output_type": "execute_result"
    }
   ],
   "source": [
    "df_completed_23_29 = '''\n",
    "SELECT substr(Question.question, 1, 15) AS 'Kérdés', Question.correct_option AS 'Helyes válasz', Answer.selected_option AS 'Beérkezett válasz' \n",
    "FROM hp_quiz_app_question AS Question\n",
    "JOIN hp_quiz_app_answer AS Answer\n",
    "ON (Answer.question_id = Question.id)\n",
    "WHERE Answer.id BETWEEN 23 AND 29;\n",
    "'''\n",
    "\n",
    "pd.read_sql_query(df_completed_23_29, conn)\n",
    "\n",
    "# 23-29 id közötti válaszok"
   ]
  },
  {
   "cell_type": "code",
   "execution_count": 246,
   "id": "5270d8f8",
   "metadata": {},
   "outputs": [
    {
     "data": {
      "text/html": [
       "<div>\n",
       "<style scoped>\n",
       "    .dataframe tbody tr th:only-of-type {\n",
       "        vertical-align: middle;\n",
       "    }\n",
       "\n",
       "    .dataframe tbody tr th {\n",
       "        vertical-align: top;\n",
       "    }\n",
       "\n",
       "    .dataframe thead th {\n",
       "        text-align: right;\n",
       "    }\n",
       "</style>\n",
       "<table border=\"1\" class=\"dataframe\">\n",
       "  <thead>\n",
       "    <tr style=\"text-align: right;\">\n",
       "      <th></th>\n",
       "      <th>Helyes válaszok száma</th>\n",
       "    </tr>\n",
       "  </thead>\n",
       "  <tbody>\n",
       "    <tr>\n",
       "      <th>0</th>\n",
       "      <td>7</td>\n",
       "    </tr>\n",
       "  </tbody>\n",
       "</table>\n",
       "</div>"
      ],
      "text/plain": [
       "   Helyes válaszok száma\n",
       "0                      7"
      ]
     },
     "execution_count": 246,
     "metadata": {},
     "output_type": "execute_result"
    }
   ],
   "source": [
    "df_23_29 = '''\n",
    "SELECT SUM(CASE WHEN Answer.selected_option = Question.correct_option THEN 1 ELSE 0 END) AS 'Helyes válaszok száma'\n",
    "FROM hp_quiz_app_question AS Question\n",
    "JOIN hp_quiz_app_answer AS Answer\n",
    "ON (Answer.question_id = Question.id)\n",
    "WHERE Answer.id BETWEEN 23 AND 29;\n",
    "'''\n",
    "\n",
    "pd.read_sql_query(df_23_29, conn)\n",
    "\n",
    "# 23-29 id - helyes válaszok száma"
   ]
  },
  {
   "cell_type": "code",
   "execution_count": 247,
   "id": "3af285ea",
   "metadata": {},
   "outputs": [
    {
     "data": {
      "text/html": [
       "<div>\n",
       "<style scoped>\n",
       "    .dataframe tbody tr th:only-of-type {\n",
       "        vertical-align: middle;\n",
       "    }\n",
       "\n",
       "    .dataframe tbody tr th {\n",
       "        vertical-align: top;\n",
       "    }\n",
       "\n",
       "    .dataframe thead th {\n",
       "        text-align: right;\n",
       "    }\n",
       "</style>\n",
       "<table border=\"1\" class=\"dataframe\">\n",
       "  <thead>\n",
       "    <tr style=\"text-align: right;\">\n",
       "      <th></th>\n",
       "      <th>Kérdés</th>\n",
       "      <th>Helyes válasz</th>\n",
       "      <th>Beérkezett válasz</th>\n",
       "    </tr>\n",
       "  </thead>\n",
       "  <tbody>\n",
       "    <tr>\n",
       "      <th>0</th>\n",
       "      <td>Ki NEM a főszer</td>\n",
       "      <td>C</td>\n",
       "      <td>C</td>\n",
       "    </tr>\n",
       "    <tr>\n",
       "      <th>1</th>\n",
       "      <td>Milyen állat Cs</td>\n",
       "      <td>D</td>\n",
       "      <td>D</td>\n",
       "    </tr>\n",
       "    <tr>\n",
       "      <th>2</th>\n",
       "      <td>Milyen pálcája</td>\n",
       "      <td>A</td>\n",
       "      <td>D</td>\n",
       "    </tr>\n",
       "    <tr>\n",
       "      <th>3</th>\n",
       "      <td>Milyen patrónus</td>\n",
       "      <td>C</td>\n",
       "      <td>C</td>\n",
       "    </tr>\n",
       "    <tr>\n",
       "      <th>4</th>\n",
       "      <td>Hány összetevőj</td>\n",
       "      <td>B</td>\n",
       "      <td>B</td>\n",
       "    </tr>\n",
       "    <tr>\n",
       "      <th>5</th>\n",
       "      <td>Ki volt a Roxfo</td>\n",
       "      <td>A</td>\n",
       "      <td>A</td>\n",
       "    </tr>\n",
       "    <tr>\n",
       "      <th>6</th>\n",
       "      <td>Melyik országba</td>\n",
       "      <td>B</td>\n",
       "      <td>A</td>\n",
       "    </tr>\n",
       "  </tbody>\n",
       "</table>\n",
       "</div>"
      ],
      "text/plain": [
       "            Kérdés Helyes válasz Beérkezett válasz\n",
       "0  Ki NEM a főszer             C                 C\n",
       "1  Milyen állat Cs             D                 D\n",
       "2  Milyen pálcája              A                 D\n",
       "3  Milyen patrónus             C                 C\n",
       "4  Hány összetevőj             B                 B\n",
       "5  Ki volt a Roxfo             A                 A\n",
       "6  Melyik országba             B                 A"
      ]
     },
     "execution_count": 247,
     "metadata": {},
     "output_type": "execute_result"
    }
   ],
   "source": [
    "df_completed_30_36 = '''\n",
    "SELECT substr(Question.question, 1, 15) AS 'Kérdés', Question.correct_option AS 'Helyes válasz', Answer.selected_option AS 'Beérkezett válasz' \n",
    "FROM hp_quiz_app_question AS Question\n",
    "JOIN hp_quiz_app_answer AS Answer\n",
    "ON (Answer.question_id = Question.id)\n",
    "WHERE Answer.id BETWEEN 30 AND 36;\n",
    "'''\n",
    "\n",
    "pd.read_sql_query(df_completed_30_36, conn)\n",
    "\n",
    "# 30-36 id közötti válaszok"
   ]
  },
  {
   "cell_type": "code",
   "execution_count": 248,
   "id": "ca23691b",
   "metadata": {},
   "outputs": [
    {
     "data": {
      "text/html": [
       "<div>\n",
       "<style scoped>\n",
       "    .dataframe tbody tr th:only-of-type {\n",
       "        vertical-align: middle;\n",
       "    }\n",
       "\n",
       "    .dataframe tbody tr th {\n",
       "        vertical-align: top;\n",
       "    }\n",
       "\n",
       "    .dataframe thead th {\n",
       "        text-align: right;\n",
       "    }\n",
       "</style>\n",
       "<table border=\"1\" class=\"dataframe\">\n",
       "  <thead>\n",
       "    <tr style=\"text-align: right;\">\n",
       "      <th></th>\n",
       "      <th>Helyes válaszok száma</th>\n",
       "    </tr>\n",
       "  </thead>\n",
       "  <tbody>\n",
       "    <tr>\n",
       "      <th>0</th>\n",
       "      <td>5</td>\n",
       "    </tr>\n",
       "  </tbody>\n",
       "</table>\n",
       "</div>"
      ],
      "text/plain": [
       "   Helyes válaszok száma\n",
       "0                      5"
      ]
     },
     "execution_count": 248,
     "metadata": {},
     "output_type": "execute_result"
    }
   ],
   "source": [
    "df_30_36 = '''\n",
    "SELECT SUM(CASE WHEN Answer.selected_option = Question.correct_option THEN 1 ELSE 0 END) AS 'Helyes válaszok száma'\n",
    "FROM hp_quiz_app_question AS Question\n",
    "JOIN hp_quiz_app_answer AS Answer\n",
    "ON (Answer.question_id = Question.id)\n",
    "WHERE Answer.id BETWEEN 30 AND 36;\n",
    "'''\n",
    "\n",
    "pd.read_sql_query(df_30_36, conn)\n",
    "\n",
    "# 30-36 id - helyes válaszok száma"
   ]
  },
  {
   "cell_type": "code",
   "execution_count": 249,
   "id": "762b7927",
   "metadata": {},
   "outputs": [
    {
     "data": {
      "image/png": "[encoded data removed]",
      "text/plain": [
       "<Figure size 1000x600 with 1 Axes>"
      ]
     },
     "metadata": {},
     "output_type": "display_data"
    }
   ],
   "source": [
    "import matplotlib.pyplot as plt\n",
    "\n",
    "# 30-36 id kitöltött \n",
    "\n",
    "data = {\n",
    "    'Kérdés': ['Ki NEM a főszer', 'Milyen állat Cs', 'Milyen pálcája', 'Milyen patrónus', 'Hány összetevőj', 'Ki volt a Roxfo', 'Melyik országba'],\n",
    "    'Helyes válasz': [1, 1, 1, 1, 1, 1, 1],\n",
    "    'Beérkezett jó válasz': [1, 1, 0, 1, 1, 1, 0]\n",
    "}\n",
    "\n",
    "df = pd.DataFrame(data)\n",
    "\n",
    "plt.figure(figsize=(10, 6))\n",
    "plt.bar(df['Kérdés'], df['Helyes válasz'], label='Helyes válasz')\n",
    "plt.bar(df['Kérdés'], df['Beérkezett jó válasz'], bottom=df['Helyes válasz'], label='Beérkezett jó válasz')\n",
    "plt.xlabel('Kérdés')\n",
    "plt.ylabel('Darabszám')\n",
    "plt.title('Helyes és beérkezett jó válaszok - 30-36 id')\n",
    "plt.xticks(rotation=45, ha='right')\n",
    "plt.legend()\n",
    "plt.show()\n"
   ]
  },
  {
   "cell_type": "code",
   "execution_count": 250,
   "id": "9e1bd78c",
   "metadata": {},
   "outputs": [
    {
     "data": {
      "text/html": [
       "<div>\n",
       "<style scoped>\n",
       "    .dataframe tbody tr th:only-of-type {\n",
       "        vertical-align: middle;\n",
       "    }\n",
       "\n",
       "    .dataframe tbody tr th {\n",
       "        vertical-align: top;\n",
       "    }\n",
       "\n",
       "    .dataframe thead th {\n",
       "        text-align: right;\n",
       "    }\n",
       "</style>\n",
       "<table border=\"1\" class=\"dataframe\">\n",
       "  <thead>\n",
       "    <tr style=\"text-align: right;\">\n",
       "      <th></th>\n",
       "      <th>Kérdés</th>\n",
       "      <th>Helyes válasz</th>\n",
       "      <th>Beérkezett válasz</th>\n",
       "    </tr>\n",
       "  </thead>\n",
       "  <tbody>\n",
       "    <tr>\n",
       "      <th>0</th>\n",
       "      <td>Ki NEM a főszer</td>\n",
       "      <td>C</td>\n",
       "      <td>D</td>\n",
       "    </tr>\n",
       "    <tr>\n",
       "      <th>1</th>\n",
       "      <td>Milyen állat Cs</td>\n",
       "      <td>D</td>\n",
       "      <td>C</td>\n",
       "    </tr>\n",
       "    <tr>\n",
       "      <th>2</th>\n",
       "      <td>Milyen pálcája</td>\n",
       "      <td>A</td>\n",
       "      <td>A</td>\n",
       "    </tr>\n",
       "    <tr>\n",
       "      <th>3</th>\n",
       "      <td>Milyen patrónus</td>\n",
       "      <td>C</td>\n",
       "      <td>B</td>\n",
       "    </tr>\n",
       "    <tr>\n",
       "      <th>4</th>\n",
       "      <td>Hány összetevőj</td>\n",
       "      <td>B</td>\n",
       "      <td>B</td>\n",
       "    </tr>\n",
       "    <tr>\n",
       "      <th>5</th>\n",
       "      <td>Ki volt a Roxfo</td>\n",
       "      <td>A</td>\n",
       "      <td>A</td>\n",
       "    </tr>\n",
       "    <tr>\n",
       "      <th>6</th>\n",
       "      <td>Melyik országba</td>\n",
       "      <td>B</td>\n",
       "      <td>A</td>\n",
       "    </tr>\n",
       "  </tbody>\n",
       "</table>\n",
       "</div>"
      ],
      "text/plain": [
       "            Kérdés Helyes válasz Beérkezett válasz\n",
       "0  Ki NEM a főszer             C                 D\n",
       "1  Milyen állat Cs             D                 C\n",
       "2  Milyen pálcája              A                 A\n",
       "3  Milyen patrónus             C                 B\n",
       "4  Hány összetevőj             B                 B\n",
       "5  Ki volt a Roxfo             A                 A\n",
       "6  Melyik országba             B                 A"
      ]
     },
     "execution_count": 250,
     "metadata": {},
     "output_type": "execute_result"
    }
   ],
   "source": [
    "df_completed_37_43 = '''\n",
    "SELECT substr(Question.question, 1, 15) AS 'Kérdés', Question.correct_option AS 'Helyes válasz', Answer.selected_option AS 'Beérkezett válasz' \n",
    "FROM hp_quiz_app_question AS Question\n",
    "JOIN hp_quiz_app_answer AS Answer\n",
    "ON (Answer.question_id = Question.id)\n",
    "WHERE Answer.id BETWEEN 37 AND 43;\n",
    "'''\n",
    "\n",
    "pd.read_sql_query(df_completed_37_43, conn)\n",
    "\n",
    "# 37-43 id közötti válaszok"
   ]
  },
  {
   "cell_type": "code",
   "execution_count": 251,
   "id": "b45f1f23",
   "metadata": {},
   "outputs": [
    {
     "data": {
      "text/html": [
       "<div>\n",
       "<style scoped>\n",
       "    .dataframe tbody tr th:only-of-type {\n",
       "        vertical-align: middle;\n",
       "    }\n",
       "\n",
       "    .dataframe tbody tr th {\n",
       "        vertical-align: top;\n",
       "    }\n",
       "\n",
       "    .dataframe thead th {\n",
       "        text-align: right;\n",
       "    }\n",
       "</style>\n",
       "<table border=\"1\" class=\"dataframe\">\n",
       "  <thead>\n",
       "    <tr style=\"text-align: right;\">\n",
       "      <th></th>\n",
       "      <th>Helyes válaszok száma</th>\n",
       "    </tr>\n",
       "  </thead>\n",
       "  <tbody>\n",
       "    <tr>\n",
       "      <th>0</th>\n",
       "      <td>3</td>\n",
       "    </tr>\n",
       "  </tbody>\n",
       "</table>\n",
       "</div>"
      ],
      "text/plain": [
       "   Helyes válaszok száma\n",
       "0                      3"
      ]
     },
     "execution_count": 251,
     "metadata": {},
     "output_type": "execute_result"
    }
   ],
   "source": [
    "df_37_43 = '''\n",
    "SELECT SUM(CASE WHEN Answer.selected_option = Question.correct_option THEN 1 ELSE 0 END) AS 'Helyes válaszok száma'\n",
    "FROM hp_quiz_app_question AS Question\n",
    "JOIN hp_quiz_app_answer AS Answer\n",
    "ON (Answer.question_id = Question.id)\n",
    "WHERE Answer.id BETWEEN 37 AND 43;\n",
    "'''\n",
    "\n",
    "pd.read_sql_query(df_37_43, conn)\n",
    "\n",
    "# 37-43 id - helyes válaszok száma"
   ]
  },
  {
   "cell_type": "code",
   "execution_count": 204,
   "id": "c6835e01",
   "metadata": {},
   "outputs": [
    {
     "data": {
      "image/png": "[encoded data removed]",
      "text/plain": [
       "<Figure size 1000x600 with 1 Axes>"
      ]
     },
     "metadata": {},
     "output_type": "display_data"
    }
   ],
   "source": [
    "# 37-43 id - ábrán\n",
    "\n",
    "data = {\n",
    "    'Kérdés': ['Ki NEM a főszer', 'Milyen állat Cs', 'Milyen pálcája', 'Milyen patrónus', 'Hány összetevőj', 'Ki volt a Roxfo', 'Melyik országba'],\n",
    "    'Helyes válasz': [1, 1, 1, 1, 1, 1, 1],\n",
    "    'Beérkezett jó válasz': [0, 0, 1, 0, 1, 1, 0]\n",
    "}\n",
    "\n",
    "df = pd.DataFrame(data)\n",
    "\n",
    "plt.figure(figsize=(10, 6))\n",
    "plt.bar(df['Kérdés'], df['Helyes válasz'], label='Helyes válasz')\n",
    "plt.bar(df['Kérdés'], df['Beérkezett jó válasz'], bottom=df['Helyes válasz'], label='Beérkezett jó válasz')\n",
    "plt.xlabel('Kérdés')\n",
    "plt.ylabel('Darabszám')\n",
    "plt.title('Helyes és beérkezett jó válaszok - 37-43 id')\n",
    "plt.xticks(rotation=45, ha='right')\n",
    "plt.legend()\n",
    "plt.show()"
   ]
  },
  {
   "cell_type": "code",
   "execution_count": 252,
   "id": "b6aaa2aa",
   "metadata": {},
   "outputs": [],
   "source": [
    "conn.close()"
   ]
  },
  {
   "cell_type": "code",
   "execution_count": null,
   "id": "8cee4528",
   "metadata": {},
   "outputs": [],
   "source": []
  }
 ],
 "metadata": {
  "kernelspec": {
   "display_name": "Python 3 (ipykernel)",
   "language": "python",
   "name": "python3"
  },
  "language_info": {
   "codemirror_mode": {
    "name": "ipython",
    "version": 3
   },
   "file_extension": ".py",
   "mimetype": "text/x-python",
   "name": "python",
   "nbconvert_exporter": "python",
   "pygments_lexer": "ipython3",
   "version": "3.10.9"
  }
 },
 "nbformat": 4,
 "nbformat_minor": 5
}
